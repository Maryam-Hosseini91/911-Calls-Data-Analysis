{
 "cells": [
  {
   "cell_type": "markdown",
   "id": "e855575f",
   "metadata": {},
   "source": [
    "# 911 Calls Data Analysis\n",
    "\n",
    "# Introduction\n",
    "\n",
    "In this project I will be analyzing some calls to 911 (emergency calls) in Montgomery County Pennsylvania, the data is obtained from [Kaggle](https://www.kaggle.com/mchirico/montcoalert).\n",
    "\n",
    "The data contains the following fields:\n",
    "\n",
    "* lat : String variable, Latitude\n",
    "* lng: String variable, Longitude\n",
    "* desc: String variable, Description of the Emergency Call\n",
    "* zip: String variable, Zipcode\n",
    "* title: String variable, Title\n",
    "* timeStamp: String variable, YYYY-MM-DD HH:MM:SS\n",
    "* twp: String variable, Township\n",
    "* addr: String variable, Address\n",
    "* e: String variable, Dummy variable (always 1)"
   ]
  },
  {
   "cell_type": "markdown",
   "id": "7f34c1fc",
   "metadata": {},
   "source": [
    "# Preliminaries\n",
    "Loading the various packages required to complete the work and set up the plotting environment."
   ]
  },
  {
   "cell_type": "code",
   "execution_count": 131,
   "id": "a0306da9",
   "metadata": {},
   "outputs": [
    {
     "data": {
      "text/html": [
       "        <script type=\"text/javascript\">\n",
       "        window.PlotlyConfig = {MathJaxConfig: 'local'};\n",
       "        if (window.MathJax && window.MathJax.Hub && window.MathJax.Hub.Config) {window.MathJax.Hub.Config({SVG: {font: \"STIX-Web\"}});}\n",
       "        if (typeof require !== 'undefined') {\n",
       "        require.undef(\"plotly\");\n",
       "        requirejs.config({\n",
       "            paths: {\n",
       "                'plotly': ['https://cdn.plot.ly/plotly-2.12.1.min']\n",
       "            }\n",
       "        });\n",
       "        require(['plotly'], function(Plotly) {\n",
       "            window._Plotly = Plotly;\n",
       "        });\n",
       "        }\n",
       "        </script>\n",
       "        "
      ]
     },
     "metadata": {},
     "output_type": "display_data"
    },
    {
     "data": {
      "text/html": [
       "        <script type=\"text/javascript\">\n",
       "        window.PlotlyConfig = {MathJaxConfig: 'local'};\n",
       "        if (window.MathJax && window.MathJax.Hub && window.MathJax.Hub.Config) {window.MathJax.Hub.Config({SVG: {font: \"STIX-Web\"}});}\n",
       "        if (typeof require !== 'undefined') {\n",
       "        require.undef(\"plotly\");\n",
       "        requirejs.config({\n",
       "            paths: {\n",
       "                'plotly': ['https://cdn.plot.ly/plotly-2.12.1.min']\n",
       "            }\n",
       "        });\n",
       "        require(['plotly'], function(Plotly) {\n",
       "            window._Plotly = Plotly;\n",
       "        });\n",
       "        }\n",
       "        </script>\n",
       "        "
      ]
     },
     "metadata": {},
     "output_type": "display_data"
    }
   ],
   "source": [
    "import numpy as np  \n",
    "import pandas as pd\n",
    "import matplotlib.pyplot as plt\n",
    "import seaborn as sns\n",
    "%matplotlib inline"
   ]
  },
  {
   "cell_type": "markdown",
   "id": "08dfdd3a",
   "metadata": {},
   "source": [
    "# Description of the data set \n",
    "Loading the data set to a dataframe and take a quick look at it."
   ]
  },
  {
   "cell_type": "code",
   "execution_count": 132,
   "id": "c69b99d6",
   "metadata": {},
   "outputs": [],
   "source": [
    "#Read in the csv file as a dataframe called df\n",
    "df=pd.read_csv('911.csv')"
   ]
  },
  {
   "cell_type": "code",
   "execution_count": 133,
   "id": "6ef54fee",
   "metadata": {},
   "outputs": [
    {
     "name": "stdout",
     "output_type": "stream",
     "text": [
      "<class 'pandas.core.frame.DataFrame'>\n",
      "RangeIndex: 663522 entries, 0 to 663521\n",
      "Data columns (total 9 columns):\n",
      " #   Column     Non-Null Count   Dtype  \n",
      "---  ------     --------------   -----  \n",
      " 0   lat        663522 non-null  float64\n",
      " 1   lng        663522 non-null  float64\n",
      " 2   desc       663522 non-null  object \n",
      " 3   zip        583323 non-null  float64\n",
      " 4   title      663522 non-null  object \n",
      " 5   timeStamp  663522 non-null  object \n",
      " 6   twp        663229 non-null  object \n",
      " 7   addr       663522 non-null  object \n",
      " 8   e          663522 non-null  int64  \n",
      "dtypes: float64(3), int64(1), object(5)\n",
      "memory usage: 45.6+ MB\n"
     ]
    }
   ],
   "source": [
    "#Check the info() of the df\n",
    "df.info()"
   ]
  },
  {
   "cell_type": "code",
   "execution_count": 134,
   "id": "b48aa221",
   "metadata": {},
   "outputs": [
    {
     "data": {
      "text/html": [
       "<div>\n",
       "<style scoped>\n",
       "    .dataframe tbody tr th:only-of-type {\n",
       "        vertical-align: middle;\n",
       "    }\n",
       "\n",
       "    .dataframe tbody tr th {\n",
       "        vertical-align: top;\n",
       "    }\n",
       "\n",
       "    .dataframe thead th {\n",
       "        text-align: right;\n",
       "    }\n",
       "</style>\n",
       "<table border=\"1\" class=\"dataframe\">\n",
       "  <thead>\n",
       "    <tr style=\"text-align: right;\">\n",
       "      <th></th>\n",
       "      <th>lat</th>\n",
       "      <th>lng</th>\n",
       "      <th>desc</th>\n",
       "      <th>zip</th>\n",
       "      <th>title</th>\n",
       "      <th>timeStamp</th>\n",
       "      <th>twp</th>\n",
       "      <th>addr</th>\n",
       "      <th>e</th>\n",
       "    </tr>\n",
       "  </thead>\n",
       "  <tbody>\n",
       "    <tr>\n",
       "      <th>0</th>\n",
       "      <td>40.297876</td>\n",
       "      <td>-75.581294</td>\n",
       "      <td>REINDEER CT &amp; DEAD END;  NEW HANOVER; Station ...</td>\n",
       "      <td>19525.0</td>\n",
       "      <td>EMS: BACK PAINS/INJURY</td>\n",
       "      <td>2015-12-10 17:10:52</td>\n",
       "      <td>NEW HANOVER</td>\n",
       "      <td>REINDEER CT &amp; DEAD END</td>\n",
       "      <td>1</td>\n",
       "    </tr>\n",
       "    <tr>\n",
       "      <th>1</th>\n",
       "      <td>40.258061</td>\n",
       "      <td>-75.264680</td>\n",
       "      <td>BRIAR PATH &amp; WHITEMARSH LN;  HATFIELD TOWNSHIP...</td>\n",
       "      <td>19446.0</td>\n",
       "      <td>EMS: DIABETIC EMERGENCY</td>\n",
       "      <td>2015-12-10 17:29:21</td>\n",
       "      <td>HATFIELD TOWNSHIP</td>\n",
       "      <td>BRIAR PATH &amp; WHITEMARSH LN</td>\n",
       "      <td>1</td>\n",
       "    </tr>\n",
       "    <tr>\n",
       "      <th>2</th>\n",
       "      <td>40.121182</td>\n",
       "      <td>-75.351975</td>\n",
       "      <td>HAWS AVE; NORRISTOWN; 2015-12-10 @ 14:39:21-St...</td>\n",
       "      <td>19401.0</td>\n",
       "      <td>Fire: GAS-ODOR/LEAK</td>\n",
       "      <td>2015-12-10 14:39:21</td>\n",
       "      <td>NORRISTOWN</td>\n",
       "      <td>HAWS AVE</td>\n",
       "      <td>1</td>\n",
       "    </tr>\n",
       "    <tr>\n",
       "      <th>3</th>\n",
       "      <td>40.116153</td>\n",
       "      <td>-75.343513</td>\n",
       "      <td>AIRY ST &amp; SWEDE ST;  NORRISTOWN; Station 308A;...</td>\n",
       "      <td>19401.0</td>\n",
       "      <td>EMS: CARDIAC EMERGENCY</td>\n",
       "      <td>2015-12-10 16:47:36</td>\n",
       "      <td>NORRISTOWN</td>\n",
       "      <td>AIRY ST &amp; SWEDE ST</td>\n",
       "      <td>1</td>\n",
       "    </tr>\n",
       "    <tr>\n",
       "      <th>4</th>\n",
       "      <td>40.251492</td>\n",
       "      <td>-75.603350</td>\n",
       "      <td>CHERRYWOOD CT &amp; DEAD END;  LOWER POTTSGROVE; S...</td>\n",
       "      <td>NaN</td>\n",
       "      <td>EMS: DIZZINESS</td>\n",
       "      <td>2015-12-10 16:56:52</td>\n",
       "      <td>LOWER POTTSGROVE</td>\n",
       "      <td>CHERRYWOOD CT &amp; DEAD END</td>\n",
       "      <td>1</td>\n",
       "    </tr>\n",
       "  </tbody>\n",
       "</table>\n",
       "</div>"
      ],
      "text/plain": [
       "         lat        lng                                               desc  \\\n",
       "0  40.297876 -75.581294  REINDEER CT & DEAD END;  NEW HANOVER; Station ...   \n",
       "1  40.258061 -75.264680  BRIAR PATH & WHITEMARSH LN;  HATFIELD TOWNSHIP...   \n",
       "2  40.121182 -75.351975  HAWS AVE; NORRISTOWN; 2015-12-10 @ 14:39:21-St...   \n",
       "3  40.116153 -75.343513  AIRY ST & SWEDE ST;  NORRISTOWN; Station 308A;...   \n",
       "4  40.251492 -75.603350  CHERRYWOOD CT & DEAD END;  LOWER POTTSGROVE; S...   \n",
       "\n",
       "       zip                    title            timeStamp                twp  \\\n",
       "0  19525.0   EMS: BACK PAINS/INJURY  2015-12-10 17:10:52        NEW HANOVER   \n",
       "1  19446.0  EMS: DIABETIC EMERGENCY  2015-12-10 17:29:21  HATFIELD TOWNSHIP   \n",
       "2  19401.0      Fire: GAS-ODOR/LEAK  2015-12-10 14:39:21         NORRISTOWN   \n",
       "3  19401.0   EMS: CARDIAC EMERGENCY  2015-12-10 16:47:36         NORRISTOWN   \n",
       "4      NaN           EMS: DIZZINESS  2015-12-10 16:56:52   LOWER POTTSGROVE   \n",
       "\n",
       "                         addr  e  \n",
       "0      REINDEER CT & DEAD END  1  \n",
       "1  BRIAR PATH & WHITEMARSH LN  1  \n",
       "2                    HAWS AVE  1  \n",
       "3          AIRY ST & SWEDE ST  1  \n",
       "4    CHERRYWOOD CT & DEAD END  1  "
      ]
     },
     "execution_count": 134,
     "metadata": {},
     "output_type": "execute_result"
    }
   ],
   "source": [
    "#Check the head of df \n",
    "df.head()"
   ]
  },
  {
   "cell_type": "code",
   "execution_count": 135,
   "id": "bedda184",
   "metadata": {},
   "outputs": [
    {
     "data": {
      "text/plain": [
       "lat              0\n",
       "lng              0\n",
       "desc             0\n",
       "zip          80199\n",
       "title            0\n",
       "timeStamp        0\n",
       "twp            293\n",
       "addr             0\n",
       "e                0\n",
       "dtype: int64"
      ]
     },
     "execution_count": 135,
     "metadata": {},
     "output_type": "execute_result"
    }
   ],
   "source": [
    "#number of null values in each column\n",
    "df.isna().sum()"
   ]
  },
  {
   "cell_type": "markdown",
   "id": "2259c024",
   "metadata": {},
   "source": [
    "The data set contains 663522 rows including the observations of the location info ('lat' and 'lng','desc','zip','twp','addr'), reason for the call ('title'), time of the call ('timeStamp'). Last column ('e') contains a dummy variable which is always 1 and can be ignored.\n",
    "Data related to 'zip codes' and 'twp' has null values with number of 80199 and 293 repectively."
   ]
  },
  {
   "cell_type": "markdown",
   "id": "b6c0c208",
   "metadata": {},
   "source": [
    "# Questions\n",
    "\n",
    "Now that we know what column category data we have let's think of some questions or insights we would like to obtain from the data. So here's a list of questions I'll try to answer using my data analysis skills.\n",
    "\n",
    "* From where the calls come most?\n",
    "* Which are the top townships for calls?\n",
    "* How many unique title??\n",
    "* What is the reason for most calls?\n",
    "* What is the most common time for calls?"
   ]
  },
  {
   "cell_type": "code",
   "execution_count": 136,
   "id": "541b36f3",
   "metadata": {},
   "outputs": [
    {
     "data": {
      "text/plain": [
       "19401.0    45606\n",
       "19464.0    43910\n",
       "19403.0    34888\n",
       "19446.0    32270\n",
       "19406.0    22464\n",
       "Name: zip, dtype: int64"
      ]
     },
     "execution_count": 136,
     "metadata": {},
     "output_type": "execute_result"
    }
   ],
   "source": [
    "#top 5 zipcodes for 911 calls:\n",
    "df['zip'].value_counts().head(5)"
   ]
  },
  {
   "cell_type": "code",
   "execution_count": 137,
   "id": "5da17c3e",
   "metadata": {},
   "outputs": [
    {
     "data": {
      "text/plain": [
       "LOWER MERION    55490\n",
       "ABINGTON        39947\n",
       "NORRISTOWN      37633\n",
       "UPPER MERION    36010\n",
       "CHELTENHAM      30574\n",
       "Name: twp, dtype: int64"
      ]
     },
     "execution_count": 137,
     "metadata": {},
     "output_type": "execute_result"
    }
   ],
   "source": [
    "#top 5 townships (twp) for 911 calls:\n",
    "df['twp'].value_counts().head(5)"
   ]
  },
  {
   "cell_type": "code",
   "execution_count": 138,
   "id": "55c2e96b",
   "metadata": {},
   "outputs": [
    {
     "data": {
      "text/plain": [
       "148"
      ]
     },
     "execution_count": 138,
     "metadata": {},
     "output_type": "execute_result"
    }
   ],
   "source": [
    "#number of unique title codes:\n",
    "df['title'].nunique()"
   ]
  },
  {
   "cell_type": "markdown",
   "id": "5f218d30",
   "metadata": {},
   "source": [
    "###  Reason for most calls:\n",
    "For this purpose, I need to create some new features\n",
    "For example, if the title column value is EMS: BACK PAINS/INJURY , the Reason column value would be EMS."
   ]
  },
  {
   "cell_type": "code",
   "execution_count": 142,
   "id": "1e014d96",
   "metadata": {},
   "outputs": [],
   "source": [
    "#creating a check point\n",
    "df_reason_added=df.copy()"
   ]
  },
  {
   "cell_type": "code",
   "execution_count": 143,
   "id": "cc7d1601",
   "metadata": {},
   "outputs": [],
   "source": [
    "#creating new column, named 'reason', which shows main reason of each call\n",
    "\n",
    "df_reason_added['reason']=df_reason_added['title'].apply(lambda x:x.split(':')[0])"
   ]
  },
  {
   "cell_type": "code",
   "execution_count": 145,
   "id": "8f67d8a4",
   "metadata": {},
   "outputs": [
    {
     "data": {
      "text/plain": [
       "array(['EMS', 'Fire', 'Traffic'], dtype=object)"
      ]
     },
     "execution_count": 145,
     "metadata": {},
     "output_type": "execute_result"
    }
   ],
   "source": [
    "#different reasons for call\n",
    "df_reason_added['reason'].unique()"
   ]
  },
  {
   "cell_type": "code",
   "execution_count": 146,
   "id": "7f009dd3",
   "metadata": {},
   "outputs": [],
   "source": [
    "#number of reasons \n",
    "reason_counts=df_reason_added['reason'].value_counts()"
   ]
  },
  {
   "cell_type": "code",
   "execution_count": 147,
   "id": "8a3b0e42",
   "metadata": {},
   "outputs": [
    {
     "data": {
      "text/plain": [
       "Text(0.5, 1.0, 'count of calls per reason')"
      ]
     },
     "execution_count": 147,
     "metadata": {},
     "output_type": "execute_result"
    },
    {
     "data": {
      "image/png": "[encoded data removed]",
      "text/plain": [
       "<Figure size 640x480 with 1 Axes>"
      ]
     },
     "metadata": {},
     "output_type": "display_data"
    }
   ],
   "source": [
    "#plotting the count of calls for each reason ('EMS', 'Fire', 'Traffic')\n",
    "reason_counts.plot(kind='bar',grid=True)\n",
    "plt.xlabel('Reasons')\n",
    "plt.ylabel('count')\n",
    "plt.title('count of calls per reason')"
   ]
  },
  {
   "cell_type": "markdown",
   "id": "46ce283d",
   "metadata": {},
   "source": [
    "As it is clear from the result, the number of calls for different reasons are:\n",
    "* Count of calls for EMS: 332,692\n",
    "* Count of calls for Traffic: 230,208\n",
    "* Count of calls for Fire: 100,622\n",
    "    "
   ]
  },
  {
   "cell_type": "markdown",
   "id": "b62949b5",
   "metadata": {},
   "source": [
    "### Time of the calls\n",
    "data type for column timeStamp is string. First of all, I should convert timeStamp data type to DateTime object. Then, features such as 'Year', 'month' , 'day of week',and 'hour' are exstracted from timeStamp column for the further analysis."
   ]
  },
  {
   "cell_type": "code",
   "execution_count": 148,
   "id": "d194ff7c",
   "metadata": {},
   "outputs": [
    {
     "data": {
      "text/plain": [
       "str"
      ]
     },
     "execution_count": 148,
     "metadata": {},
     "output_type": "execute_result"
    }
   ],
   "source": [
    "type(df_reason_added['timeStamp'][0])"
   ]
  },
  {
   "cell_type": "code",
   "execution_count": 151,
   "id": "e622a8c4",
   "metadata": {},
   "outputs": [],
   "source": [
    "#creating a check point\n",
    "df_time_mod=df_reason_added.copy()"
   ]
  },
  {
   "cell_type": "code",
   "execution_count": 153,
   "id": "b596518f",
   "metadata": {},
   "outputs": [
    {
     "data": {
      "text/plain": [
       "pandas._libs.tslibs.timestamps.Timestamp"
      ]
     },
     "execution_count": 153,
     "metadata": {},
     "output_type": "execute_result"
    }
   ],
   "source": [
    "#converting the data type of timeStamp column from str to DateTime\n",
    "df_time_mod['timeStamp']=pd.to_datetime(df_time_mod['timeStamp'])\n",
    "type(df_time_mod['timeStamp'][0])"
   ]
  },
  {
   "cell_type": "code",
   "execution_count": 155,
   "id": "85edccb9",
   "metadata": {},
   "outputs": [],
   "source": [
    "#extracting 'Year', 'month' , 'day of week', 'hour' from timeStamp column\n",
    "df_time_mod['year']=df_time_mod['timeStamp'].apply(lambda x:x.year)\n",
    "df_time_mod['month']=df_time_mod['timeStamp'].apply(lambda x:x.month)\n",
    "df_time_mod['day_of_week']=df_time_mod['timeStamp'].apply(lambda x:x.day_of_week)\n",
    "df_time_mod['hour']=df_time_mod['timeStamp'].apply(lambda x:x.hour)"
   ]
  },
  {
   "cell_type": "code",
   "execution_count": 157,
   "id": "8d9b55bd",
   "metadata": {},
   "outputs": [],
   "source": [
    "#defining day and month dictionary \n",
    "day_map={0:'Mon',1:'Tue',2:'Wed',3:'Thu',4:'Fri',5:'Sat',6:'Sun'}\n",
    "month_map={1:'jan', 2:'feb',3:'mar',4:'apr',5:'may',6:'jun',7:'jul',8:'aug',9:'sep',10:'oct',11:'nov',12:'dec'}"
   ]
  },
  {
   "cell_type": "code",
   "execution_count": 160,
   "id": "06309097",
   "metadata": {},
   "outputs": [],
   "source": [
    "#convert the number for 'day of week' and 'month' to str for the better understanding\n",
    "df_time_mod['month']=df_time_mod['month'].map(month_map)\n",
    "df_time_mod['day_of_week']=df_time_mod['day_of_week'].map(day_map)"
   ]
  },
  {
   "cell_type": "markdown",
   "id": "3fbd8272",
   "metadata": {},
   "source": [
    "### Purpose of the \"time analysis\"\n",
    "In this part I want to see if there are some patterns between the number of calls and time features such as 'Year', 'month' , 'day of week',and 'hour'."
   ]
  },
  {
   "cell_type": "markdown",
   "id": "75569752",
   "metadata": {},
   "source": [
    "#### 1- Analysing the number of calls in diffrent years:"
   ]
  },
  {
   "cell_type": "code",
   "execution_count": 238,
   "id": "80cc9c93",
   "metadata": {},
   "outputs": [
    {
     "data": {
      "text/plain": [
       "<AxesSubplot:xlabel='year', ylabel='count'>"
      ]
     },
     "execution_count": 238,
     "metadata": {},
     "output_type": "execute_result"
    },
    {
     "data": {
      "image/png": "[encoded data removed]",
      "text/plain": [
       "<Figure size 640x480 with 1 Axes>"
      ]
     },
     "metadata": {},
     "output_type": "display_data"
    }
   ],
   "source": [
    "#plotting the count of calls in different years for different reasons\n",
    "sns.countplot(x='year',data=df_time_mod,hue='reason')"
   ]
  },
  {
   "cell_type": "code",
   "execution_count": 176,
   "id": "1e1c0852",
   "metadata": {},
   "outputs": [
    {
     "name": "stdout",
     "output_type": "stream",
     "text": [
      "start: 2015-12-10 14:39:21\n",
      "end: 2020-07-29 15:54:08\n"
     ]
    }
   ],
   "source": [
    "print('start:', df_time_mod['timeStamp'].min())\n",
    "print('end:',df_time_mod['timeStamp'].max())"
   ]
  },
  {
   "cell_type": "markdown",
   "id": "5b152b53",
   "metadata": {},
   "source": [
    "At the first glance it seems that the number of calls in 2015 and 2020 are less than the other years, but we should keep in mind that these years are not fully considered, it means in 2015, data for calls started at 2015-12-10 and in 2020, we have only data until 2020-07-29.\n",
    "Having considered this fact we can calculate the daily average number of calls per year to compare different years."
   ]
  },
  {
   "cell_type": "code",
   "execution_count": 234,
   "id": "dba702ef",
   "metadata": {},
   "outputs": [],
   "source": [
    "#extracting date\n",
    "df_time_mod['date']=df_time_mod['timeStamp'].apply(lambda x:x.date())"
   ]
  },
  {
   "cell_type": "code",
   "execution_count": 231,
   "id": "3356d9f7",
   "metadata": {},
   "outputs": [],
   "source": [
    "#calculate the number of calls in each day in different years\n",
    "groupby_date=df_time_mod['timeStamp'].groupby([df_time_mod['year'],df_time_mod['date']]).count()"
   ]
  },
  {
   "cell_type": "code",
   "execution_count": 235,
   "id": "ddd4c525",
   "metadata": {},
   "outputs": [
    {
     "name": "stdout",
     "output_type": "stream",
     "text": [
      "daily average call to 911 in 2015 is 360\n",
      "daily average call to 911 in 2016 is 389\n",
      "daily average call to 911 in 2017 is 385\n",
      "daily average call to 911 in 2018 is 415\n",
      "daily average call to 911 in 2019 is 409\n",
      "daily average call to 911 in 2020 is 342\n"
     ]
    }
   ],
   "source": [
    "#calculating daily average call in different years\n",
    "years=df_time_mod['year'].unique()\n",
    "for i in years:\n",
    "    print('daily average call to 911 in',i,'is',round(groupby_date.loc[i,:].mean()))"
   ]
  },
  {
   "cell_type": "markdown",
   "id": "0fd167cc",
   "metadata": {},
   "source": [
    "According to the average daily calls to 911 in different years, it seems that daily average calls in 2020 was the least with 342 daily average call, and in 2018 and 2019 had the highest daily average call with number of 415 and 409 calls respectively. "
   ]
  },
  {
   "cell_type": "markdown",
   "id": "e869aa57",
   "metadata": {},
   "source": [
    "#### 2- Analysing the number of calls in diffrent days of the week:"
   ]
  },
  {
   "cell_type": "code",
   "execution_count": 281,
   "id": "41f80770",
   "metadata": {},
   "outputs": [
    {
     "data": {
      "text/plain": [
       "Text(0, 0.5, 'count of calls')"
      ]
     },
     "execution_count": 281,
     "metadata": {},
     "output_type": "execute_result"
    },
    {
     "data": {
      "image/png": "[encoded data removed]",
      "text/plain": [
       "<Figure size 640x480 with 1 Axes>"
      ]
     },
     "metadata": {},
     "output_type": "display_data"
    }
   ],
   "source": [
    "sns.countplot(x='day_of_week',data=df_time_mod,hue='reason')\n",
    "plt.legend(bbox_to_anchor=(1.05, 1), loc=2, borderaxespad=0.)\n",
    "plt.ylabel('count of calls')"
   ]
  },
  {
   "cell_type": "markdown",
   "id": "e1ef3939",
   "metadata": {},
   "source": [
    "according to the result related to the day of the week, it seems that the number of calls in the weekend are less than week days."
   ]
  },
  {
   "cell_type": "markdown",
   "id": "0c26b99e",
   "metadata": {},
   "source": [
    "#### 3- Analysing the number of calls in diffrent hours"
   ]
  },
  {
   "cell_type": "markdown",
   "id": "07aa2525",
   "metadata": {},
   "source": [
    "To have a more sensible comparison for different hours, heatmap is a good option."
   ]
  },
  {
   "cell_type": "code",
   "execution_count": 294,
   "id": "94ee62db",
   "metadata": {},
   "outputs": [
    {
     "data": {
      "text/html": [
       "<div>\n",
       "<style scoped>\n",
       "    .dataframe tbody tr th:only-of-type {\n",
       "        vertical-align: middle;\n",
       "    }\n",
       "\n",
       "    .dataframe tbody tr th {\n",
       "        vertical-align: top;\n",
       "    }\n",
       "\n",
       "    .dataframe thead th {\n",
       "        text-align: right;\n",
       "    }\n",
       "</style>\n",
       "<table border=\"1\" class=\"dataframe\">\n",
       "  <thead>\n",
       "    <tr style=\"text-align: right;\">\n",
       "      <th>hour</th>\n",
       "      <th>0</th>\n",
       "      <th>1</th>\n",
       "      <th>2</th>\n",
       "      <th>3</th>\n",
       "      <th>4</th>\n",
       "      <th>5</th>\n",
       "      <th>6</th>\n",
       "      <th>7</th>\n",
       "      <th>8</th>\n",
       "      <th>9</th>\n",
       "      <th>...</th>\n",
       "      <th>14</th>\n",
       "      <th>15</th>\n",
       "      <th>16</th>\n",
       "      <th>17</th>\n",
       "      <th>18</th>\n",
       "      <th>19</th>\n",
       "      <th>20</th>\n",
       "      <th>21</th>\n",
       "      <th>22</th>\n",
       "      <th>23</th>\n",
       "    </tr>\n",
       "    <tr>\n",
       "      <th>day_of_week</th>\n",
       "      <th></th>\n",
       "      <th></th>\n",
       "      <th></th>\n",
       "      <th></th>\n",
       "      <th></th>\n",
       "      <th></th>\n",
       "      <th></th>\n",
       "      <th></th>\n",
       "      <th></th>\n",
       "      <th></th>\n",
       "      <th></th>\n",
       "      <th></th>\n",
       "      <th></th>\n",
       "      <th></th>\n",
       "      <th></th>\n",
       "      <th></th>\n",
       "      <th></th>\n",
       "      <th></th>\n",
       "      <th></th>\n",
       "      <th></th>\n",
       "      <th></th>\n",
       "    </tr>\n",
       "  </thead>\n",
       "  <tbody>\n",
       "    <tr>\n",
       "      <th>Fri</th>\n",
       "      <td>1983</td>\n",
       "      <td>1635</td>\n",
       "      <td>1449</td>\n",
       "      <td>1296</td>\n",
       "      <td>1339</td>\n",
       "      <td>1639</td>\n",
       "      <td>2670</td>\n",
       "      <td>4143</td>\n",
       "      <td>5018</td>\n",
       "      <td>5288</td>\n",
       "      <td>...</td>\n",
       "      <td>6394</td>\n",
       "      <td>7040</td>\n",
       "      <td>7065</td>\n",
       "      <td>7113</td>\n",
       "      <td>5668</td>\n",
       "      <td>5056</td>\n",
       "      <td>4375</td>\n",
       "      <td>3913</td>\n",
       "      <td>3422</td>\n",
       "      <td>2834</td>\n",
       "    </tr>\n",
       "    <tr>\n",
       "      <th>Mon</th>\n",
       "      <td>1894</td>\n",
       "      <td>1571</td>\n",
       "      <td>1368</td>\n",
       "      <td>1272</td>\n",
       "      <td>1336</td>\n",
       "      <td>1844</td>\n",
       "      <td>2675</td>\n",
       "      <td>4430</td>\n",
       "      <td>5504</td>\n",
       "      <td>5724</td>\n",
       "      <td>...</td>\n",
       "      <td>5713</td>\n",
       "      <td>6289</td>\n",
       "      <td>6346</td>\n",
       "      <td>6408</td>\n",
       "      <td>5441</td>\n",
       "      <td>4488</td>\n",
       "      <td>3823</td>\n",
       "      <td>3254</td>\n",
       "      <td>2658</td>\n",
       "      <td>2072</td>\n",
       "    </tr>\n",
       "    <tr>\n",
       "      <th>Sat</th>\n",
       "      <td>2447</td>\n",
       "      <td>2059</td>\n",
       "      <td>1883</td>\n",
       "      <td>1592</td>\n",
       "      <td>1451</td>\n",
       "      <td>1580</td>\n",
       "      <td>1880</td>\n",
       "      <td>2489</td>\n",
       "      <td>3457</td>\n",
       "      <td>4315</td>\n",
       "      <td>...</td>\n",
       "      <td>5421</td>\n",
       "      <td>5181</td>\n",
       "      <td>5211</td>\n",
       "      <td>5213</td>\n",
       "      <td>4980</td>\n",
       "      <td>4753</td>\n",
       "      <td>4127</td>\n",
       "      <td>3895</td>\n",
       "      <td>3226</td>\n",
       "      <td>2965</td>\n",
       "    </tr>\n",
       "    <tr>\n",
       "      <th>Sun</th>\n",
       "      <td>2424</td>\n",
       "      <td>2135</td>\n",
       "      <td>1946</td>\n",
       "      <td>1614</td>\n",
       "      <td>1471</td>\n",
       "      <td>1488</td>\n",
       "      <td>1726</td>\n",
       "      <td>2408</td>\n",
       "      <td>3001</td>\n",
       "      <td>3728</td>\n",
       "      <td>...</td>\n",
       "      <td>4744</td>\n",
       "      <td>4475</td>\n",
       "      <td>4560</td>\n",
       "      <td>4505</td>\n",
       "      <td>4402</td>\n",
       "      <td>4135</td>\n",
       "      <td>3748</td>\n",
       "      <td>3161</td>\n",
       "      <td>2629</td>\n",
       "      <td>2323</td>\n",
       "    </tr>\n",
       "    <tr>\n",
       "      <th>Thu</th>\n",
       "      <td>1731</td>\n",
       "      <td>1408</td>\n",
       "      <td>1426</td>\n",
       "      <td>1236</td>\n",
       "      <td>1293</td>\n",
       "      <td>1775</td>\n",
       "      <td>2816</td>\n",
       "      <td>4432</td>\n",
       "      <td>5297</td>\n",
       "      <td>5412</td>\n",
       "      <td>...</td>\n",
       "      <td>6079</td>\n",
       "      <td>6493</td>\n",
       "      <td>6375</td>\n",
       "      <td>6935</td>\n",
       "      <td>5512</td>\n",
       "      <td>4703</td>\n",
       "      <td>4045</td>\n",
       "      <td>3490</td>\n",
       "      <td>2844</td>\n",
       "      <td>2354</td>\n",
       "    </tr>\n",
       "  </tbody>\n",
       "</table>\n",
       "<p>5 rows × 24 columns</p>\n",
       "</div>"
      ],
      "text/plain": [
       "hour           0     1     2     3     4     5     6     7     8     9   ...  \\\n",
       "day_of_week                                                              ...   \n",
       "Fri          1983  1635  1449  1296  1339  1639  2670  4143  5018  5288  ...   \n",
       "Mon          1894  1571  1368  1272  1336  1844  2675  4430  5504  5724  ...   \n",
       "Sat          2447  2059  1883  1592  1451  1580  1880  2489  3457  4315  ...   \n",
       "Sun          2424  2135  1946  1614  1471  1488  1726  2408  3001  3728  ...   \n",
       "Thu          1731  1408  1426  1236  1293  1775  2816  4432  5297  5412  ...   \n",
       "\n",
       "hour           14    15    16    17    18    19    20    21    22    23  \n",
       "day_of_week                                                              \n",
       "Fri          6394  7040  7065  7113  5668  5056  4375  3913  3422  2834  \n",
       "Mon          5713  6289  6346  6408  5441  4488  3823  3254  2658  2072  \n",
       "Sat          5421  5181  5211  5213  4980  4753  4127  3895  3226  2965  \n",
       "Sun          4744  4475  4560  4505  4402  4135  3748  3161  2629  2323  \n",
       "Thu          6079  6493  6375  6935  5512  4703  4045  3490  2844  2354  \n",
       "\n",
       "[5 rows x 24 columns]"
      ]
     },
     "execution_count": 294,
     "metadata": {},
     "output_type": "execute_result"
    }
   ],
   "source": [
    "day_hour=df_time_mod.groupby(['day_of_week','hour']).count()['reason'].unstack()\n",
    "day_hour.head()"
   ]
  },
  {
   "cell_type": "code",
   "execution_count": 295,
   "id": "cbb6dd63",
   "metadata": {},
   "outputs": [
    {
     "data": {
      "text/plain": [
       "<AxesSubplot:xlabel='hour', ylabel='day_of_week'>"
      ]
     },
     "execution_count": 295,
     "metadata": {},
     "output_type": "execute_result"
    },
    {
     "data": {
      "image/png": "[encoded data removed]",
      "text/plain": [
       "<Figure size 1000x400 with 2 Axes>"
      ]
     },
     "metadata": {},
     "output_type": "display_data"
    }
   ],
   "source": [
    "plt.figure(figsize=(10,4))\n",
    "sns.heatmap(day_hour)"
   ]
  },
  {
   "cell_type": "markdown",
   "id": "70f3db94",
   "metadata": {},
   "source": [
    "Above heatmap shows the number of calls in different hours on different days of the week in a colored matrix in which the lighter color indicates higher values for count of calls.\n",
    "According to the heatmap, it is clearly visible that the number of calls are higher during day time hours (between 8 and 18). Also we can see that on the weekend (Saturday and Sunday) the number of calls are less than the other days.\n"
   ]
  },
  {
   "cell_type": "code",
   "execution_count": 278,
   "id": "d650f760",
   "metadata": {},
   "outputs": [
    {
     "data": {
      "text/plain": [
       "<AxesSubplot:xlabel='reason', ylabel='hour'>"
      ]
     },
     "execution_count": 278,
     "metadata": {},
     "output_type": "execute_result"
    },
    {
     "data": {
      "image/png": "[encoded data removed]",
      "text/plain": [
       "<Figure size 640x480 with 2 Axes>"
      ]
     },
     "metadata": {},
     "output_type": "display_data"
    }
   ],
   "source": [
    "# Analyzing the number of calls in different hours for different reasons\n",
    "sns.heatmap(df_time_mod.groupby(['hour','reason']).count()['lat'].unstack())"
   ]
  },
  {
   "cell_type": "code",
   "execution_count": 262,
   "id": "c04e1016",
   "metadata": {},
   "outputs": [
    {
     "data": {
      "text/plain": [
       "<AxesSubplot:xlabel='month', ylabel='count'>"
      ]
     },
     "execution_count": 262,
     "metadata": {},
     "output_type": "execute_result"
    },
    {
     "data": {
      "image/png": "[encoded data removed]",
      "text/plain": [
       "<Figure size 640x480 with 1 Axes>"
      ]
     },
     "metadata": {},
     "output_type": "display_data"
    }
   ],
   "source": [
    "#number of calls in different months\n",
    "sns.countplot(x='month',data=df_time_mod,palette='mako')"
   ]
  },
  {
   "cell_type": "code",
   "execution_count": 267,
   "id": "21181230",
   "metadata": {},
   "outputs": [
    {
     "data": {
      "text/plain": [
       "jan    62336\n",
       "jun    60034\n",
       "mar    60027\n",
       "jul    59832\n",
       "dec    57692\n",
       "may    57509\n",
       "feb    55427\n",
       "apr    53671\n",
       "oct    51240\n",
       "nov    50182\n",
       "aug    48359\n",
       "sep    47213\n",
       "Name: month, dtype: int64"
      ]
     },
     "execution_count": 267,
     "metadata": {},
     "output_type": "execute_result"
    }
   ],
   "source": [
    "df_time_mod['month'].value_counts()"
   ]
  },
  {
   "cell_type": "markdown",
   "id": "176aca56",
   "metadata": {},
   "source": [
    "According to the above results, it can be seen that the number of calls in January was the highest with 62336 calls and September was the lowest with 47213 total calls."
   ]
  }
 ],
 "metadata": {
  "kernelspec": {
   "display_name": "Python 3 (ipykernel)",
   "language": "python",
   "name": "python3"
  },
  "language_info": {
   "codemirror_mode": {
    "name": "ipython",
    "version": 3
   },
   "file_extension": ".py",
   "mimetype": "text/x-python",
   "name": "python",
   "nbconvert_exporter": "python",
   "pygments_lexer": "ipython3",
   "version": "3.9.13"
  }
 },
 "nbformat": 4,
 "nbformat_minor": 5
}
